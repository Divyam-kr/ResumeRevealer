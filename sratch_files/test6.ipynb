{
 "cells": [
  {
   "cell_type": "code",
   "execution_count": 1,
   "id": "initial_id",
   "metadata": {
    "collapsed": true,
    "ExecuteTime": {
     "end_time": "2024-03-01T04:25:36.936350200Z",
     "start_time": "2024-03-01T04:25:36.439949100Z"
    }
   },
   "outputs": [],
   "source": [
    "import pandas as pd"
   ]
  },
  {
   "cell_type": "code",
   "execution_count": 2,
   "outputs": [],
   "source": [
    "df = pd.read_csv(r\"C:\\Users\\jaini\\Downloads\\Resume.csv\\Resume.csv\")"
   ],
   "metadata": {
    "collapsed": false,
    "ExecuteTime": {
     "end_time": "2024-03-01T04:26:06.704141800Z",
     "start_time": "2024-03-01T04:26:06.150524700Z"
    }
   },
   "id": "228def181e453813"
  },
  {
   "cell_type": "code",
   "execution_count": 3,
   "outputs": [
    {
     "data": {
      "text/plain": "         ID                                         Resume_str  \\\n0  16852973           HR ADMINISTRATOR/MARKETING ASSOCIATE\\...   \n1  22323967           HR SPECIALIST, US HR OPERATIONS      ...   \n2  33176873           HR DIRECTOR       Summary      Over 2...   \n3  27018550           HR SPECIALIST       Summary    Dedica...   \n4  17812897           HR MANAGER         Skill Highlights  ...   \n\n                                         Resume_html Category  \n0  <div class=\"fontsize fontface vmargins hmargin...       HR  \n1  <div class=\"fontsize fontface vmargins hmargin...       HR  \n2  <div class=\"fontsize fontface vmargins hmargin...       HR  \n3  <div class=\"fontsize fontface vmargins hmargin...       HR  \n4  <div class=\"fontsize fontface vmargins hmargin...       HR  ",
      "text/html": "<div>\n<style scoped>\n    .dataframe tbody tr th:only-of-type {\n        vertical-align: middle;\n    }\n\n    .dataframe tbody tr th {\n        vertical-align: top;\n    }\n\n    .dataframe thead th {\n        text-align: right;\n    }\n</style>\n<table border=\"1\" class=\"dataframe\">\n  <thead>\n    <tr style=\"text-align: right;\">\n      <th></th>\n      <th>ID</th>\n      <th>Resume_str</th>\n      <th>Resume_html</th>\n      <th>Category</th>\n    </tr>\n  </thead>\n  <tbody>\n    <tr>\n      <th>0</th>\n      <td>16852973</td>\n      <td>HR ADMINISTRATOR/MARKETING ASSOCIATE\\...</td>\n      <td>&lt;div class=\"fontsize fontface vmargins hmargin...</td>\n      <td>HR</td>\n    </tr>\n    <tr>\n      <th>1</th>\n      <td>22323967</td>\n      <td>HR SPECIALIST, US HR OPERATIONS      ...</td>\n      <td>&lt;div class=\"fontsize fontface vmargins hmargin...</td>\n      <td>HR</td>\n    </tr>\n    <tr>\n      <th>2</th>\n      <td>33176873</td>\n      <td>HR DIRECTOR       Summary      Over 2...</td>\n      <td>&lt;div class=\"fontsize fontface vmargins hmargin...</td>\n      <td>HR</td>\n    </tr>\n    <tr>\n      <th>3</th>\n      <td>27018550</td>\n      <td>HR SPECIALIST       Summary    Dedica...</td>\n      <td>&lt;div class=\"fontsize fontface vmargins hmargin...</td>\n      <td>HR</td>\n    </tr>\n    <tr>\n      <th>4</th>\n      <td>17812897</td>\n      <td>HR MANAGER         Skill Highlights  ...</td>\n      <td>&lt;div class=\"fontsize fontface vmargins hmargin...</td>\n      <td>HR</td>\n    </tr>\n  </tbody>\n</table>\n</div>"
     },
     "execution_count": 3,
     "metadata": {},
     "output_type": "execute_result"
    }
   ],
   "source": [
    "df.head()"
   ],
   "metadata": {
    "collapsed": false,
    "ExecuteTime": {
     "end_time": "2024-03-01T04:26:08.832964400Z",
     "start_time": "2024-03-01T04:26:08.800063Z"
    }
   },
   "id": "2b23d1f853737f5d"
  },
  {
   "cell_type": "code",
   "execution_count": 4,
   "outputs": [
    {
     "data": {
      "text/plain": "'<div class=\"fontsize fontface vmargins hmargins linespacing pagesize\" id=\"document\"> <div class=\"section firstsection\" id=\"SECTION_NAME500375979\" style=\"\\n      padding-top:0px;\\n    \"> <div class=\"paragraph PARAGRAPH_NAME firstparagraph\" id=\"PARAGRAPH_500375979_1_326506904\" style=\"\\n      padding-top:0px;\\n    \"> <div class=\"name\" itemprop=\"name\"> <span class=\"field fName\" id=\"500375979FNAM1\"> </span> <span> </span> <span class=\"field\" id=\"500375979LNAM1\"> HR ADMINISTRATOR/MARKETING ASSOCIATE\\n\\nHR ADMINISTRATOR</span> </div> </div> </div> <div class=\"section\" id=\"SECTION_SUMM500375981\" style=\"\\n      padding-top:0px;\\n    \"> <div class=\"heading bottomborder\"> <div class=\"sectiontitle\" id=\"SECTNAME_SUMM500375981\"> Summary</div> </div> <div class=\"paragraph firstparagraph\" id=\"PARAGRAPH_500375981_1_326506917\" style=\"\\n      padding-top:0px;\\n    \"> <div class=\"field singlecolumn\" id=\"500375981FRFM1\"> <p align=\"LEFT\"> Dedicated Customer Service Manager with 15+ years of experience in Hospitality and Customer Service Management. </p> <p align=\"LEFT\"> Respected builder and leader of customer-focused teams; strives to instill a shared, enthusiastic commitment to customer service.  </p> </div> </div> </div> <div class=\"section\" id=\"SECTION_HILT500375982\" style=\"\\n      padding-top:0px;\\n    \"> <div class=\"heading bottomborder\"> <div class=\"sectiontitle\" id=\"SECTNAME_HILT500375982\"> Highlights</div> </div> <div class=\"paragraph firstparagraph\" id=\"PARAGRAPH_500375982_1_326509244\" style=\"\\n      padding-top:0px;\\n    \"> <div class=\"singlecolumn maincolumn\"> <table class=\"twocol\"> <tbody> <tr> <td class=\"field twocol_1\" id=\"500375982SKC11\"> <p align=\"CENTER\"> Focused on customer satisfaction</p> <p align=\"CENTER\"> Team management</p> <p align=\"CENTER\"> Marketing savvy</p> <p align=\"CENTER\"> Conflict resolution techniques</p> <br/> </td> <td class=\"field twocol_2\" id=\"500375982SKC21\"> <p align=\"CENTER\"> Training and development</p> <p align=\"CENTER\"> Skilled multi-tasker</p> <p align=\"CENTER\"> Client relations specialist</p> </td> </tr> </tbody> </table> </div> </div> </div> <div class=\"section\" id=\"SECTION_ACCM500375993\" style=\"\\n      padding-top:0px;\\n    \"> <div class=\"heading bottomborder\"> <div class=\"sectiontitle\" id=\"SECTNAME_ACCM500375993\"> Accomplishments</div> </div> <div class=\"paragraph firstparagraph\" id=\"PARAGRAPH_500375993_1_326506914\" style=\"\\n      padding-top:0px;\\n    \"> <div class=\"field singlecolumn\" id=\"500375993FRFM1\"> <ul> <li> Missouri DOT Supervisor Training Certification</li> <li> Certified by IHG in Customer Loyalty and Marketing by Segment </li> <li> Hilton Worldwide General Manager Training Certification</li> <li> Accomplished Trainer for cross server hospitality systems such as  <b> <u> Hilton OnQ</u> </b> ,  <u> Micros </u> <b> <u> Opera PMS</u> </b> <u> , Fidelio </u> <b> <u> OPERA</u> </b> <u>  Reservation System (ORS)</u> , <b> <u> Holidex</u> </b> </li> <li> Completed courses and seminars in customer service, sales strategies, inventory control, loss prevention, safety, time management, leadership and performance assessment.</li> </ul> </div> </div> </div> <div class=\"section\" id=\"SECTION_EXPR500375983\" style=\"\\n      padding-top:0px;\\n    \"> <div class=\"heading bottomborder\"> <div class=\"sectiontitle\" id=\"SECTNAME_EXPR500375983\"> Experience</div> </div> <div class=\"paragraph firstparagraph\" id=\"PARAGRAPH_500375983_1_326506906\" itemscope=\"\" itemtype=\"https://schema.org/Organization\" style=\"\\n      padding-top:0px;\\n    \"> <div class=\"singlecolumn\"> <span class=\"paddedline\"> <span class=\"jobtitle\" id=\"500375983JTIT1\"> HR Administrator/Marketing Associate\\n\\nHR Administrator</span> <span> </span> <span class=\"datesWrapper\"> <span class=\"jobdates\" format=\"%b %Y\" id=\"500375983JSTD1\"> Dec 2013</span> <span>  to </span> <span class=\"jobdates\" format=\"%b %Y\" id=\"500375983EDDT1\"> Current</span> <br/> </span> </span> <span class=\"paddedline\" itemscope=\"\" itemtype=\"https://schema.org/postalAddress\"> <span class=\"companyname\" id=\"500375983COMP1\" itemprop=\"name\"> Company Name</span> <span>  － </span> <span class=\"joblocation jobcity\" id=\"500375983JCIT1\" itemprop=\"addressLocality\"> City</span> <span> , </span> <span class=\"joblocation jobstate\" id=\"500375983JSTA1\" itemprop=\"addressRegion\"> State</span> </span> <span class=\"jobline\" id=\"500375983JDES1\" itemprop=\"description\"> <ul> <li> Helps to develop policies, directs and coordinates activities such as employment, compensation, labor relations, benefits, training, and employee services.</li> <li> Prepares employee separation notices and related documentation</li> <li> Keeps records of benefits plans participation such as insurance and pension plan, personnel transactions such as hires, promotions, transfers, performance reviews, and terminations, and employee statistics for government reporting.</li> <li> Advises management in appropriate resolution of employee relations issues.</li> <li> Administers benefits programs such as life, health, dental, insurance, pension plans, vacation, sick leave, leave of absence, and employee assistance.</li> </ul> <br/> <p align=\"LEFT\"> <b> Marketing Associate</b> \\xa0</p> <ul> <li> Designed and created marketing collateral for sales meetings, trade shows and company executives.</li> <li> Managed the in-house advertising program consisting of print and media collateral pieces.</li> <li> Assisted in the complete design and launch of the company\\'s website in 2 months.</li> <li> Created an official company page on Facebook to facilitate interaction with customers.</li> <li> Analyzed ratings and programming features of competitors to evaluate the effectiveness of marketing strategies.</li> </ul> </span> </div> </div> <div class=\"paragraph\" id=\"PARAGRAPH_500375983_2_326506907\" itemscope=\"\" itemtype=\"https://schema.org/Organization\" style=\"\\n      padding-top:10px;\\n    \"> <div class=\"singlecolumn\"> <span class=\"paddedline\"> <span class=\"jobtitle\" id=\"500375983JTIT2\"> Advanced Medical Claims Analyst</span> <span> </span> <span class=\"datesWrapper\"> <span class=\"jobdates\" format=\"%b %Y\" id=\"500375983JSTD2\"> Mar 2012</span> <span>  to </span> <span class=\"jobdates\" format=\"%b %Y\" id=\"500375983EDDT2\"> Dec 2013</span> <br/> </span> </span> <span class=\"paddedline\" itemscope=\"\" itemtype=\"https://schema.org/postalAddress\"> <span class=\"companyname\" id=\"500375983COMP2\" itemprop=\"name\"> Company Name</span> <span>  － </span> <span class=\"joblocation jobcity\" id=\"500375983JCIT2\" itemprop=\"addressLocality\"> City</span> <span> , </span> <span class=\"joblocation jobstate\" id=\"500375983JSTA2\" itemprop=\"addressRegion\"> State</span> </span> <span class=\"jobline\" id=\"500375983JDES2\" itemprop=\"description\"> <ul> <li> Reviewed medical bills for the accuracy of the treatments, tests, and hospital stays prior to sanctioning the claims.</li> <li> Trained to interpret the codes (ICD-9, CPT) and terminology commonly used in medical billing to fully understand the paperwork that is submitted by healthcare providers.</li> <li> Required to have organizational and analytical skills as well as computer skills, knowledge of medical terminology and procedures, statistics, billing standards, data analysis and laws regarding medical billing.</li> </ul> </span> </div> </div> <div class=\"paragraph\" id=\"PARAGRAPH_500375983_3_326506908\" itemscope=\"\" itemtype=\"https://schema.org/Organization\" style=\"\\n      padding-top:15px;\\n    \"> <div class=\"singlecolumn\"> <span class=\"paddedline\"> <span class=\"jobtitle\" id=\"500375983JTIT3\"> Assistant General Manager</span> <span> </span> <span class=\"datesWrapper\"> <span class=\"jobdates\" format=\"%b %Y\" id=\"500375983JSTD3\"> Jun 2010</span> <span>  to </span> <span class=\"jobdates\" format=\"%b %Y\" id=\"500375983EDDT3\"> Dec 2010</span> <br/> </span> </span> <span class=\"paddedline\" itemscope=\"\" itemtype=\"https://schema.org/postalAddress\"> <span class=\"companyname\" id=\"500375983COMP3\" itemprop=\"name\"> Company Name</span> <span>  － </span> <span class=\"joblocation jobcity\" id=\"500375983JCIT3\" itemprop=\"addressLocality\"> City</span> <span> , </span> <span class=\"joblocation jobstate\" id=\"500375983JSTA3\" itemprop=\"addressRegion\"> State</span> </span> <span class=\"jobline\" id=\"500375983JDES3\" itemprop=\"description\"> <ul> <li> Performed duties including but not limited to, budgeting and financial management, accounting, human resources, payroll and purchasing.</li> <li> Established and maintained close working relationships with all departments of the hotel to ensure maximum operation, productivity, morale and guest service.</li> <li> Handled daily operations and reported directly to the corporate office.</li> <li> Hired and trained staff on overall objectives and goals with an emphasis on high customer service.</li> <li> Marketing and Advertising, working on public relations with the media, government and local businesses and Chamber of Commerce.</li> </ul> </span> </div> </div> <div class=\"paragraph\" id=\"PARAGRAPH_500375983_4_326506910\" itemscope=\"\" itemtype=\"https://schema.org/Organization\" style=\"\\n      padding-top:5px;\\n    \"> <div class=\"singlecolumn\"> <span class=\"paddedline\"> <span class=\"jobtitle\" id=\"500375983JTIT4\"> Executive Support / Marketing Assistant</span> <span> </span> <span class=\"datesWrapper\"> <span class=\"jobdates\" format=\"%b %Y\" id=\"500375983JSTD4\"> Jul 2007</span> <span>  to </span> <span class=\"jobdates\" format=\"%b %Y\" id=\"500375983EDDT4\"> Jun 2010</span> <br/> </span> </span> <span class=\"paddedline\" itemscope=\"\" itemtype=\"https://schema.org/postalAddress\"> <span class=\"companyname\" id=\"500375983COMP4\" itemprop=\"name\"> Company Name</span> <span>  － </span> <span class=\"joblocation jobcity\" id=\"500375983JCIT4\" itemprop=\"addressLocality\"> City</span> <span> , </span> <span class=\"joblocation jobstate\" id=\"500375983JSTA4\" itemprop=\"addressRegion\"> State</span> </span> <span class=\"jobline\" id=\"500375983JDES4\" itemprop=\"description\"> <ul> <li> Provided assistance to various department heads - Executive, Marketing, Customer Service, Human Resources.</li> <li> Managed front-end operations to ensure friendly and efficient transactions.</li> <li> Ensured the swift resolution of customer issues to preserve customer loyalty while complying with company policies.</li> <li> Exemplified the second-to-none customer service delivery in all interactions with customers and potential clients.</li> </ul> </span> </div> </div> <div class=\"paragraph\" id=\"PARAGRAPH_500375983_5_326506911\" itemscope=\"\" itemtype=\"https://schema.org/Organization\" style=\"\\n      padding-top:10px;\\n    \"> <div class=\"singlecolumn\"> <span class=\"paddedline\"> <span class=\"jobtitle\" id=\"500375983JTIT5\"> Reservation &amp; Front Office Manager</span> <span> </span> <span class=\"datesWrapper\"> <span class=\"jobdates\" format=\"%b %Y\" id=\"500375983JSTD5\"> Jun 2004</span> <span>  to </span> <span class=\"jobdates\" format=\"%b %Y\" id=\"500375983EDDT5\"> Jul 2007</span> <br/> </span> </span> <span class=\"paddedline\" itemscope=\"\" itemtype=\"https://schema.org/postalAddress\"> <span class=\"companyname\" id=\"500375983COMP5\" itemprop=\"name\"> Company Name</span> <span>  － </span> <span class=\"joblocation jobcity\" id=\"500375983JCIT5\" itemprop=\"addressLocality\"> City</span> <span> , </span> <span class=\"joblocation jobstate\" id=\"500375983JSTA5\" itemprop=\"addressRegion\"> State</span> </span> <span class=\"jobline\" id=\"500375983JDES5\" itemprop=\"description\"> </span> </div> </div> <div class=\"paragraph\" id=\"PARAGRAPH_500375983_6_326506912\" itemscope=\"\" itemtype=\"https://schema.org/Organization\" style=\"\\n      padding-top:10px;\\n    \"> <div class=\"singlecolumn\"> <span class=\"paddedline\"> <span class=\"jobtitle\" id=\"500375983JTIT6\"> Owner/ Partner</span> <span> </span> <span class=\"datesWrapper\"> <span class=\"jobdates\" format=\"%b %Y\" id=\"500375983JSTD6\"> Dec 2001</span> <span>  to </span> <span class=\"jobdates\" format=\"%b %Y\" id=\"500375983EDDT6\"> May 2004</span> <br/> </span> </span> <span class=\"paddedline\" itemscope=\"\" itemtype=\"https://schema.org/postalAddress\"> <span class=\"companyname\" id=\"500375983COMP6\" itemprop=\"name\"> Company Name</span> <span>  － </span> <span class=\"joblocation jobcity\" id=\"500375983JCIT6\" itemprop=\"addressLocality\"> City</span> <span> , </span> <span class=\"joblocation jobstate\" id=\"500375983JSTA6\" itemprop=\"addressRegion\"> State</span> </span> <span class=\"jobline\" id=\"500375983JDES6\" itemprop=\"description\"> </span> </div> </div> <div class=\"paragraph\" id=\"PARAGRAPH_500375983_7_326506913\" itemscope=\"\" itemtype=\"https://schema.org/Organization\" style=\"\\n      padding-top:10px;\\n    \"> <div class=\"singlecolumn\"> <span class=\"paddedline\"> <span class=\"jobtitle\" id=\"500375983JTIT7\"> Price Integrity Coordinator</span> <span> </span> <span class=\"datesWrapper\"> <span class=\"jobdates\" format=\"%b %Y\" id=\"500375983JSTD7\"> Aug 1999</span> <span>  to </span> <span class=\"jobdates\" format=\"%b %Y\" id=\"500375983EDDT7\"> Dec 2001</span> <br/> </span> </span> <span class=\"paddedline\" itemscope=\"\" itemtype=\"https://schema.org/postalAddress\"> <span class=\"companyname\" id=\"500375983COMP7\" itemprop=\"name\"> Company Name</span> <span>  － </span> <span class=\"joblocation jobcity\" id=\"500375983JCIT7\" itemprop=\"addressLocality\"> City</span> <span> , </span> <span class=\"joblocation jobstate\" id=\"500375983JSTA7\" itemprop=\"addressRegion\"> State</span> </span> <span class=\"jobline\" id=\"500375983JDES7\" itemprop=\"description\"> </span> </div> </div> </div> <div class=\"section\" id=\"SECTION_EDUC500400498\" style=\"\\n      padding-top:0px;\\n    \"> <div class=\"heading bottomborder\"> <div class=\"sectiontitle\" id=\"SECTNAME_EDUC500400498\"> Education</div> </div> <div class=\"paragraph firstparagraph\" id=\"PARAGRAPH_500400498_1_326523310\" itemscope=\"\" itemtype=\"https://schema.org/EducationalOrganization\" style=\"\\n      padding-top:0px;\\n    \"> <div class=\"singlecolumn\"> <span class=\"paddedline\" itemprop=\"description\"> <span class=\"degree\" id=\"500400498DGRE1\" itemprop=\"name\"> N/A</span> <span> , </span> <span class=\"programline\" id=\"500400498STUY1\"> Business Administration</span> <span class=\"datesWrapper\"> <span class=\"jobdates\" id=\"500400498GRYR1\"> 1999</span> </span> </span> <span class=\"paddedline\"> <span class=\"companyname companyname_educ\" id=\"500400498SCHO1\" itemprop=\"name\"> Jefferson College</span> <span>  － </span> <span class=\"joblocation jobcity\" id=\"500400498SCIT1\"> City</span> <span> , </span> <span class=\"joblocation jobstate\" id=\"500400498SSTA1\"> State</span> <span class=\"joblocation jobstate\" id=\"500400498SCNT1\"> </span> </span> <span class=\"field\" id=\"500400498FRFM1\"> <ul> <li> Business Administration</li> <li> Marketing / Advertising</li> </ul> </span> </div> </div> <div class=\"paragraph\" id=\"PARAGRAPH_500400498_2_326522471\" itemscope=\"\" itemtype=\"https://schema.org/EducationalOrganization\" style=\"\\n      padding-top:0px;\\n    \"> <div class=\"singlecolumn\"> <span class=\"paddedline\" itemprop=\"description\"> <span class=\"degree\" id=\"500400498DGRE2\" itemprop=\"name\"> High School Diploma</span> <span> , </span> <span class=\"programline\" id=\"500400498STUY2\"> College Prep. studies</span> <span class=\"datesWrapper\"> <span class=\"jobdates\" id=\"500400498GRYR2\"> 1998</span> </span> </span> <span class=\"paddedline\"> <span class=\"companyname companyname_educ\" id=\"500400498SCHO2\" itemprop=\"name\"> Sainte Genevieve Senior High</span> <span>  － </span> <span class=\"joblocation jobcity\" id=\"500400498SCIT2\"> City</span> <span> , </span> <span class=\"joblocation jobstate\" id=\"500400498SSTA2\"> State</span> <span class=\"joblocation jobstate\" id=\"500400498SCNT2\"> </span> </span> <span class=\"field\" id=\"500400498FRFM2\"> <ul> <li> Awarded American Shrubel Leadership Scholarship to Jefferson College</li> </ul> </span> </div> </div> </div> <div class=\"section\" id=\"SECTION_SKLL500375994\" style=\"\\n      padding-top:0px;\\n    \"> <div class=\"heading bottomborder\"> <div class=\"sectiontitle\" id=\"SECTNAME_SKLL500375994\"> Skills</div> </div> <div class=\"paragraph firstparagraph\" id=\"PARAGRAPH_500375994_1_326506918\" style=\"\\n      padding-top:0px;\\n    \"> <div class=\"field singlecolumn\" id=\"500375994FRFM1\"> <p align=\"LEFT\"> Accounting, ads, advertising, analytical skills, benefits, billing, budgeting, clients, Customer Service, data analysis, delivery, documentation, employee relations, financial management, government relations, Human Resources, insurance, labor relations, layout, Marketing, marketing collateral, medical billing, medical terminology, office, organizational, payroll, performance reviews, personnel, policies, posters, presentations, public relations, purchasing, reporting, statistics, website.</p> </div> </div> </div> </div>'"
     },
     "execution_count": 4,
     "metadata": {},
     "output_type": "execute_result"
    }
   ],
   "source": [
    "df['Resume_html'][0]"
   ],
   "metadata": {
    "collapsed": false,
    "ExecuteTime": {
     "end_time": "2024-03-01T04:26:40.068625500Z",
     "start_time": "2024-03-01T04:26:40.049627Z"
    }
   },
   "id": "11f026aaf6cff751"
  },
  {
   "cell_type": "code",
   "execution_count": 6,
   "outputs": [
    {
     "ename": "UnicodeEncodeError",
     "evalue": "'charmap' codec can't encode character '\\uff0d' in position 4082: character maps to <undefined>",
     "output_type": "error",
     "traceback": [
      "\u001B[1;31m---------------------------------------------------------------------------\u001B[0m",
      "\u001B[1;31mUnicodeEncodeError\u001B[0m                        Traceback (most recent call last)",
      "Cell \u001B[1;32mIn[6], line 3\u001B[0m\n\u001B[0;32m      1\u001B[0m \u001B[38;5;66;03m# make a html file form the resume_html column\u001B[39;00m\n\u001B[0;32m      2\u001B[0m \u001B[38;5;28;01mwith\u001B[39;00m \u001B[38;5;28mopen\u001B[39m(\u001B[38;5;124m'\u001B[39m\u001B[38;5;124mresume.html\u001B[39m\u001B[38;5;124m'\u001B[39m, \u001B[38;5;124m'\u001B[39m\u001B[38;5;124mw\u001B[39m\u001B[38;5;124m'\u001B[39m) \u001B[38;5;28;01mas\u001B[39;00m f:\n\u001B[1;32m----> 3\u001B[0m     \u001B[43mf\u001B[49m\u001B[38;5;241;43m.\u001B[39;49m\u001B[43mwrite\u001B[49m\u001B[43m(\u001B[49m\u001B[43mdf\u001B[49m\u001B[43m[\u001B[49m\u001B[38;5;124;43m'\u001B[39;49m\u001B[38;5;124;43mResume_html\u001B[39;49m\u001B[38;5;124;43m'\u001B[39;49m\u001B[43m]\u001B[49m\u001B[43m[\u001B[49m\u001B[38;5;241;43m0\u001B[39;49m\u001B[43m]\u001B[49m\u001B[43m)\u001B[49m\n",
      "File \u001B[1;32m~\\AppData\\Local\\Programs\\Python\\Python310\\lib\\encodings\\cp1252.py:19\u001B[0m, in \u001B[0;36mIncrementalEncoder.encode\u001B[1;34m(self, input, final)\u001B[0m\n\u001B[0;32m     18\u001B[0m \u001B[38;5;28;01mdef\u001B[39;00m \u001B[38;5;21mencode\u001B[39m(\u001B[38;5;28mself\u001B[39m, \u001B[38;5;28minput\u001B[39m, final\u001B[38;5;241m=\u001B[39m\u001B[38;5;28;01mFalse\u001B[39;00m):\n\u001B[1;32m---> 19\u001B[0m     \u001B[38;5;28;01mreturn\u001B[39;00m \u001B[43mcodecs\u001B[49m\u001B[38;5;241;43m.\u001B[39;49m\u001B[43mcharmap_encode\u001B[49m\u001B[43m(\u001B[49m\u001B[38;5;28;43minput\u001B[39;49m\u001B[43m,\u001B[49m\u001B[38;5;28;43mself\u001B[39;49m\u001B[38;5;241;43m.\u001B[39;49m\u001B[43merrors\u001B[49m\u001B[43m,\u001B[49m\u001B[43mencoding_table\u001B[49m\u001B[43m)\u001B[49m[\u001B[38;5;241m0\u001B[39m]\n",
      "\u001B[1;31mUnicodeEncodeError\u001B[0m: 'charmap' codec can't encode character '\\uff0d' in position 4082: character maps to <undefined>"
     ]
    }
   ],
   "source": [
    "# make a html file form the resume_html column\n",
    "with open('resume.html', 'w') as f:\n",
    "    f.write(df['Resume_html'][0])"
   ],
   "metadata": {
    "collapsed": false,
    "ExecuteTime": {
     "end_time": "2024-03-01T04:27:14.637769600Z",
     "start_time": "2024-03-01T04:27:14.314783Z"
    }
   },
   "id": "da6d6e2ca1a305ca"
  },
  {
   "cell_type": "code",
   "execution_count": null,
   "outputs": [],
   "source": [
    "import os\n",
    "\n"
   ],
   "metadata": {
    "collapsed": false
   },
   "id": "4ecb982a51d939a"
  },
  {
   "cell_type": "code",
   "execution_count": null,
   "outputs": [],
   "source": [],
   "metadata": {
    "collapsed": false
   },
   "id": "9cc58eed3e5ccf4b"
  }
 ],
 "metadata": {
  "kernelspec": {
   "display_name": "Python 3",
   "language": "python",
   "name": "python3"
  },
  "language_info": {
   "codemirror_mode": {
    "name": "ipython",
    "version": 2
   },
   "file_extension": ".py",
   "mimetype": "text/x-python",
   "name": "python",
   "nbconvert_exporter": "python",
   "pygments_lexer": "ipython2",
   "version": "2.7.6"
  }
 },
 "nbformat": 4,
 "nbformat_minor": 5
}
